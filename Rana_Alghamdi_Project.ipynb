{
 "cells": [
  {
   "cell_type": "markdown",
   "id": "d2a61a42",
   "metadata": {},
   "source": [
    "# Project Cardiovascular Disease Dataset\n"
   ]
  },
  {
   "cell_type": "markdown",
   "id": "02ebda42",
   "metadata": {},
   "source": [
    "أمراض القلب والأوعية الدموية"
   ]
  },
  {
   "cell_type": "markdown",
   "id": "921781a6",
   "metadata": {},
   "source": [
    "<img src=\"http://www.spinesurgeon-losangeles.com/wp-content/uploads/2017/02/heart-problem.jpg\" width=\"500\" height=\"100\">"
   ]
  },
  {
   "cell_type": "markdown",
   "id": "8d5dcc5b",
   "metadata": {},
   "source": [
    "## Design & Data:"
   ]
  },
  {
   "cell_type": "markdown",
   "id": "2d35835c",
   "metadata": {},
   "source": [
    "the purpose is prediction if a patient has cardiovascular disease or not, beside of patients medical information such as height, weight, age, blood pressure, glucose levels, and cholesterol levels."
   ]
  },
  {
   "cell_type": "markdown",
   "id": "a901a881",
   "metadata": {},
   "source": [
    "the dataset is \n",
    "https://www.kaggle.com/sulianova/cardiovascular-disease-dataset\n",
    "\n",
    "Features:\n",
    "\n",
    "* Age | Objective Feature | age | int (days)\n",
    "* Height | Objective Feature | height | int (cm) |\n",
    "* Weight | Objective Feature | weight | float (kg) |\n",
    "* Gender | Objective Feature | gender | categorical code |\n",
    "* Systolic blood pressure | Examination Feature | ap_hi | int |\n",
    "* Diastolic blood pressure | Examination Feature | ap_lo | int |\n",
    "* Cholesterol | Examination Feature | cholesterol | 1: normal, 2: above normal, 3: well above normal |\n",
    "* Glucose | Examination Feature | gluc | 1: normal, 2: above normal, 3: well above normal |\n",
    "* Smoking | Subjective Feature | smoke | binary |\n",
    "* Alcohol intake | Subjective Feature | alco | binary |\n",
    "* Physical activity | Subjective Feature | active | binary |\n",
    "* Presence or absence of cardiovascular disease | Target Variable | cardio | binary |"
   ]
  },
  {
   "cell_type": "markdown",
   "id": "fbb2e3a4",
   "metadata": {},
   "source": [
    "import the tools that we will need "
   ]
  },
  {
   "cell_type": "code",
   "execution_count": 1,
   "id": "1fb1de04",
   "metadata": {},
   "outputs": [],
   "source": [
    "import pandas as pd\n",
    "import numpy as np\n",
    "import seaborn as sns\n",
    "import matplotlib.pyplot as plt\n",
    "from sklearn.model_selection import train_test_split\n",
    "from sklearn.preprocessing import StandardScaler\n",
    "from sklearn.linear_model import LogisticRegression\n",
    "from sklearn.metrics import precision_score, recall_score, accuracy_score, roc_auc_score\n",
    "from sklearn.metrics import classification_report, confusion_matrix\n",
    "\n",
    "%matplotlib inline"
   ]
  },
  {
   "cell_type": "markdown",
   "id": "f73cd2f8",
   "metadata": {},
   "source": [
    "read the dataset file witch was separated semicolon"
   ]
  },
  {
   "cell_type": "code",
   "execution_count": 2,
   "id": "b8df9a6d",
   "metadata": {
    "scrolled": true
   },
   "outputs": [
    {
     "data": {
      "text/html": [
       "<div>\n",
       "<style scoped>\n",
       "    .dataframe tbody tr th:only-of-type {\n",
       "        vertical-align: middle;\n",
       "    }\n",
       "\n",
       "    .dataframe tbody tr th {\n",
       "        vertical-align: top;\n",
       "    }\n",
       "\n",
       "    .dataframe thead th {\n",
       "        text-align: right;\n",
       "    }\n",
       "</style>\n",
       "<table border=\"1\" class=\"dataframe\">\n",
       "  <thead>\n",
       "    <tr style=\"text-align: right;\">\n",
       "      <th></th>\n",
       "      <th>id</th>\n",
       "      <th>age</th>\n",
       "      <th>gender</th>\n",
       "      <th>height</th>\n",
       "      <th>weight</th>\n",
       "      <th>ap_hi</th>\n",
       "      <th>ap_lo</th>\n",
       "      <th>cholesterol</th>\n",
       "      <th>gluc</th>\n",
       "      <th>smoke</th>\n",
       "      <th>alco</th>\n",
       "      <th>active</th>\n",
       "      <th>cardio</th>\n",
       "    </tr>\n",
       "  </thead>\n",
       "  <tbody>\n",
       "    <tr>\n",
       "      <th>0</th>\n",
       "      <td>0</td>\n",
       "      <td>18393</td>\n",
       "      <td>2</td>\n",
       "      <td>168</td>\n",
       "      <td>62.0</td>\n",
       "      <td>110</td>\n",
       "      <td>80</td>\n",
       "      <td>1</td>\n",
       "      <td>1</td>\n",
       "      <td>0</td>\n",
       "      <td>0</td>\n",
       "      <td>1</td>\n",
       "      <td>0</td>\n",
       "    </tr>\n",
       "    <tr>\n",
       "      <th>1</th>\n",
       "      <td>1</td>\n",
       "      <td>20228</td>\n",
       "      <td>1</td>\n",
       "      <td>156</td>\n",
       "      <td>85.0</td>\n",
       "      <td>140</td>\n",
       "      <td>90</td>\n",
       "      <td>3</td>\n",
       "      <td>1</td>\n",
       "      <td>0</td>\n",
       "      <td>0</td>\n",
       "      <td>1</td>\n",
       "      <td>1</td>\n",
       "    </tr>\n",
       "    <tr>\n",
       "      <th>2</th>\n",
       "      <td>2</td>\n",
       "      <td>18857</td>\n",
       "      <td>1</td>\n",
       "      <td>165</td>\n",
       "      <td>64.0</td>\n",
       "      <td>130</td>\n",
       "      <td>70</td>\n",
       "      <td>3</td>\n",
       "      <td>1</td>\n",
       "      <td>0</td>\n",
       "      <td>0</td>\n",
       "      <td>0</td>\n",
       "      <td>1</td>\n",
       "    </tr>\n",
       "    <tr>\n",
       "      <th>3</th>\n",
       "      <td>3</td>\n",
       "      <td>17623</td>\n",
       "      <td>2</td>\n",
       "      <td>169</td>\n",
       "      <td>82.0</td>\n",
       "      <td>150</td>\n",
       "      <td>100</td>\n",
       "      <td>1</td>\n",
       "      <td>1</td>\n",
       "      <td>0</td>\n",
       "      <td>0</td>\n",
       "      <td>1</td>\n",
       "      <td>1</td>\n",
       "    </tr>\n",
       "    <tr>\n",
       "      <th>4</th>\n",
       "      <td>4</td>\n",
       "      <td>17474</td>\n",
       "      <td>1</td>\n",
       "      <td>156</td>\n",
       "      <td>56.0</td>\n",
       "      <td>100</td>\n",
       "      <td>60</td>\n",
       "      <td>1</td>\n",
       "      <td>1</td>\n",
       "      <td>0</td>\n",
       "      <td>0</td>\n",
       "      <td>0</td>\n",
       "      <td>0</td>\n",
       "    </tr>\n",
       "  </tbody>\n",
       "</table>\n",
       "</div>"
      ],
      "text/plain": [
       "   id    age  gender  height  weight  ap_hi  ap_lo  cholesterol  gluc  smoke  \\\n",
       "0   0  18393       2     168    62.0    110     80            1     1      0   \n",
       "1   1  20228       1     156    85.0    140     90            3     1      0   \n",
       "2   2  18857       1     165    64.0    130     70            3     1      0   \n",
       "3   3  17623       2     169    82.0    150    100            1     1      0   \n",
       "4   4  17474       1     156    56.0    100     60            1     1      0   \n",
       "\n",
       "   alco  active  cardio  \n",
       "0     0       1       0  \n",
       "1     0       1       1  \n",
       "2     0       0       1  \n",
       "3     0       1       1  \n",
       "4     0       0       0  "
      ]
     },
     "execution_count": 2,
     "metadata": {},
     "output_type": "execute_result"
    }
   ],
   "source": [
    "df = pd.read_csv(\"cardio_train.csv\", sep = ';') #the data semicolon (not comma) separated\n",
    "df.head(5)"
   ]
  },
  {
   "cell_type": "markdown",
   "id": "28f72eda",
   "metadata": {},
   "source": [
    "check the columns names "
   ]
  },
  {
   "cell_type": "code",
   "execution_count": 3,
   "id": "ea6f245d",
   "metadata": {
    "scrolled": true
   },
   "outputs": [
    {
     "data": {
      "text/plain": [
       "Index(['id', 'age', 'gender', 'height', 'weight', 'ap_hi', 'ap_lo',\n",
       "       'cholesterol', 'gluc', 'smoke', 'alco', 'active', 'cardio'],\n",
       "      dtype='object')"
      ]
     },
     "execution_count": 3,
     "metadata": {},
     "output_type": "execute_result"
    }
   ],
   "source": [
    "df.columns"
   ]
  },
  {
   "cell_type": "markdown",
   "id": "a954450d",
   "metadata": {},
   "source": [
    "and check the the number of records and features"
   ]
  },
  {
   "cell_type": "code",
   "execution_count": 4,
   "id": "b9ac630c",
   "metadata": {},
   "outputs": [
    {
     "data": {
      "text/plain": [
       "(70000, 13)"
      ]
     },
     "execution_count": 4,
     "metadata": {},
     "output_type": "execute_result"
    }
   ],
   "source": [
    "df.shape"
   ]
  },
  {
   "cell_type": "code",
   "execution_count": 5,
   "id": "b13fd83f",
   "metadata": {
    "scrolled": false
   },
   "outputs": [
    {
     "data": {
      "text/plain": [
       "False"
      ]
     },
     "execution_count": 5,
     "metadata": {},
     "output_type": "execute_result"
    }
   ],
   "source": [
    "#check for null\n",
    "df.isnull().sum().any()"
   ]
  },
  {
   "cell_type": "markdown",
   "id": "6e33d771",
   "metadata": {},
   "source": [
    "see descriptive statistics of the features"
   ]
  },
  {
   "cell_type": "code",
   "execution_count": 6,
   "id": "65139a06",
   "metadata": {
    "scrolled": false
   },
   "outputs": [
    {
     "data": {
      "text/html": [
       "<div>\n",
       "<style scoped>\n",
       "    .dataframe tbody tr th:only-of-type {\n",
       "        vertical-align: middle;\n",
       "    }\n",
       "\n",
       "    .dataframe tbody tr th {\n",
       "        vertical-align: top;\n",
       "    }\n",
       "\n",
       "    .dataframe thead th {\n",
       "        text-align: right;\n",
       "    }\n",
       "</style>\n",
       "<table border=\"1\" class=\"dataframe\">\n",
       "  <thead>\n",
       "    <tr style=\"text-align: right;\">\n",
       "      <th></th>\n",
       "      <th>id</th>\n",
       "      <th>age</th>\n",
       "      <th>gender</th>\n",
       "      <th>height</th>\n",
       "      <th>weight</th>\n",
       "      <th>ap_hi</th>\n",
       "      <th>ap_lo</th>\n",
       "      <th>cholesterol</th>\n",
       "      <th>gluc</th>\n",
       "      <th>smoke</th>\n",
       "      <th>alco</th>\n",
       "      <th>active</th>\n",
       "      <th>cardio</th>\n",
       "    </tr>\n",
       "  </thead>\n",
       "  <tbody>\n",
       "    <tr>\n",
       "      <th>count</th>\n",
       "      <td>70000.000000</td>\n",
       "      <td>70000.000000</td>\n",
       "      <td>70000.000000</td>\n",
       "      <td>70000.000000</td>\n",
       "      <td>70000.000000</td>\n",
       "      <td>70000.000000</td>\n",
       "      <td>70000.000000</td>\n",
       "      <td>70000.000000</td>\n",
       "      <td>70000.000000</td>\n",
       "      <td>70000.000000</td>\n",
       "      <td>70000.000000</td>\n",
       "      <td>70000.000000</td>\n",
       "      <td>70000.000000</td>\n",
       "    </tr>\n",
       "    <tr>\n",
       "      <th>mean</th>\n",
       "      <td>49972.419900</td>\n",
       "      <td>19468.865814</td>\n",
       "      <td>1.349571</td>\n",
       "      <td>164.359229</td>\n",
       "      <td>74.205690</td>\n",
       "      <td>128.817286</td>\n",
       "      <td>96.630414</td>\n",
       "      <td>1.366871</td>\n",
       "      <td>1.226457</td>\n",
       "      <td>0.088129</td>\n",
       "      <td>0.053771</td>\n",
       "      <td>0.803729</td>\n",
       "      <td>0.499700</td>\n",
       "    </tr>\n",
       "    <tr>\n",
       "      <th>std</th>\n",
       "      <td>28851.302323</td>\n",
       "      <td>2467.251667</td>\n",
       "      <td>0.476838</td>\n",
       "      <td>8.210126</td>\n",
       "      <td>14.395757</td>\n",
       "      <td>154.011419</td>\n",
       "      <td>188.472530</td>\n",
       "      <td>0.680250</td>\n",
       "      <td>0.572270</td>\n",
       "      <td>0.283484</td>\n",
       "      <td>0.225568</td>\n",
       "      <td>0.397179</td>\n",
       "      <td>0.500003</td>\n",
       "    </tr>\n",
       "    <tr>\n",
       "      <th>min</th>\n",
       "      <td>0.000000</td>\n",
       "      <td>10798.000000</td>\n",
       "      <td>1.000000</td>\n",
       "      <td>55.000000</td>\n",
       "      <td>10.000000</td>\n",
       "      <td>-150.000000</td>\n",
       "      <td>-70.000000</td>\n",
       "      <td>1.000000</td>\n",
       "      <td>1.000000</td>\n",
       "      <td>0.000000</td>\n",
       "      <td>0.000000</td>\n",
       "      <td>0.000000</td>\n",
       "      <td>0.000000</td>\n",
       "    </tr>\n",
       "    <tr>\n",
       "      <th>25%</th>\n",
       "      <td>25006.750000</td>\n",
       "      <td>17664.000000</td>\n",
       "      <td>1.000000</td>\n",
       "      <td>159.000000</td>\n",
       "      <td>65.000000</td>\n",
       "      <td>120.000000</td>\n",
       "      <td>80.000000</td>\n",
       "      <td>1.000000</td>\n",
       "      <td>1.000000</td>\n",
       "      <td>0.000000</td>\n",
       "      <td>0.000000</td>\n",
       "      <td>1.000000</td>\n",
       "      <td>0.000000</td>\n",
       "    </tr>\n",
       "    <tr>\n",
       "      <th>50%</th>\n",
       "      <td>50001.500000</td>\n",
       "      <td>19703.000000</td>\n",
       "      <td>1.000000</td>\n",
       "      <td>165.000000</td>\n",
       "      <td>72.000000</td>\n",
       "      <td>120.000000</td>\n",
       "      <td>80.000000</td>\n",
       "      <td>1.000000</td>\n",
       "      <td>1.000000</td>\n",
       "      <td>0.000000</td>\n",
       "      <td>0.000000</td>\n",
       "      <td>1.000000</td>\n",
       "      <td>0.000000</td>\n",
       "    </tr>\n",
       "    <tr>\n",
       "      <th>75%</th>\n",
       "      <td>74889.250000</td>\n",
       "      <td>21327.000000</td>\n",
       "      <td>2.000000</td>\n",
       "      <td>170.000000</td>\n",
       "      <td>82.000000</td>\n",
       "      <td>140.000000</td>\n",
       "      <td>90.000000</td>\n",
       "      <td>2.000000</td>\n",
       "      <td>1.000000</td>\n",
       "      <td>0.000000</td>\n",
       "      <td>0.000000</td>\n",
       "      <td>1.000000</td>\n",
       "      <td>1.000000</td>\n",
       "    </tr>\n",
       "    <tr>\n",
       "      <th>max</th>\n",
       "      <td>99999.000000</td>\n",
       "      <td>23713.000000</td>\n",
       "      <td>2.000000</td>\n",
       "      <td>250.000000</td>\n",
       "      <td>200.000000</td>\n",
       "      <td>16020.000000</td>\n",
       "      <td>11000.000000</td>\n",
       "      <td>3.000000</td>\n",
       "      <td>3.000000</td>\n",
       "      <td>1.000000</td>\n",
       "      <td>1.000000</td>\n",
       "      <td>1.000000</td>\n",
       "      <td>1.000000</td>\n",
       "    </tr>\n",
       "  </tbody>\n",
       "</table>\n",
       "</div>"
      ],
      "text/plain": [
       "                 id           age        gender        height        weight  \\\n",
       "count  70000.000000  70000.000000  70000.000000  70000.000000  70000.000000   \n",
       "mean   49972.419900  19468.865814      1.349571    164.359229     74.205690   \n",
       "std    28851.302323   2467.251667      0.476838      8.210126     14.395757   \n",
       "min        0.000000  10798.000000      1.000000     55.000000     10.000000   \n",
       "25%    25006.750000  17664.000000      1.000000    159.000000     65.000000   \n",
       "50%    50001.500000  19703.000000      1.000000    165.000000     72.000000   \n",
       "75%    74889.250000  21327.000000      2.000000    170.000000     82.000000   \n",
       "max    99999.000000  23713.000000      2.000000    250.000000    200.000000   \n",
       "\n",
       "              ap_hi         ap_lo   cholesterol          gluc         smoke  \\\n",
       "count  70000.000000  70000.000000  70000.000000  70000.000000  70000.000000   \n",
       "mean     128.817286     96.630414      1.366871      1.226457      0.088129   \n",
       "std      154.011419    188.472530      0.680250      0.572270      0.283484   \n",
       "min     -150.000000    -70.000000      1.000000      1.000000      0.000000   \n",
       "25%      120.000000     80.000000      1.000000      1.000000      0.000000   \n",
       "50%      120.000000     80.000000      1.000000      1.000000      0.000000   \n",
       "75%      140.000000     90.000000      2.000000      1.000000      0.000000   \n",
       "max    16020.000000  11000.000000      3.000000      3.000000      1.000000   \n",
       "\n",
       "               alco        active        cardio  \n",
       "count  70000.000000  70000.000000  70000.000000  \n",
       "mean       0.053771      0.803729      0.499700  \n",
       "std        0.225568      0.397179      0.500003  \n",
       "min        0.000000      0.000000      0.000000  \n",
       "25%        0.000000      1.000000      0.000000  \n",
       "50%        0.000000      1.000000      0.000000  \n",
       "75%        0.000000      1.000000      1.000000  \n",
       "max        1.000000      1.000000      1.000000  "
      ]
     },
     "execution_count": 6,
     "metadata": {},
     "output_type": "execute_result"
    }
   ],
   "source": [
    "df.describe() "
   ]
  },
  {
   "cell_type": "markdown",
   "id": "c9d4c7c9",
   "metadata": {},
   "source": [
    "## EDA:"
   ]
  },
  {
   "cell_type": "markdown",
   "id": "e4add0e8",
   "metadata": {},
   "source": [
    "### cleaning:"
   ]
  },
  {
   "cell_type": "markdown",
   "id": "ffa4d623",
   "metadata": {},
   "source": [
    "* 1 drop column `id` as it is irrelevant to target variable.\n",
    "* 2 Transform `age` column into years instead of days.\n",
    "* 3 clean the unrealistic values in `ap_hi` and `ap_lo` \n",
    "* 4 clean the unrealistic values in `height` and `weight`   \n",
    "* 5 add **Body Mass Index (BMI)** column\n",
    "* 6 change the encode for `gender` from 1-2 to F-M\n",
    "* 7 check for **duplicated** data\n"
   ]
  },
  {
   "cell_type": "markdown",
   "id": "dd9f28d3",
   "metadata": {},
   "source": [
    "### 1 drop column `id` as it is irrelevant to target variable."
   ]
  },
  {
   "cell_type": "code",
   "execution_count": 7,
   "id": "8cd6ef4b",
   "metadata": {},
   "outputs": [
    {
     "data": {
      "text/plain": [
       "(70000, 13)"
      ]
     },
     "execution_count": 7,
     "metadata": {},
     "output_type": "execute_result"
    }
   ],
   "source": [
    "#1 columns before drop id\n",
    "df.shape"
   ]
  },
  {
   "cell_type": "code",
   "execution_count": 8,
   "id": "82545846",
   "metadata": {
    "scrolled": true
   },
   "outputs": [],
   "source": [
    "#1 drop id\n",
    "df=df.drop('id',axis=1)"
   ]
  },
  {
   "cell_type": "code",
   "execution_count": 9,
   "id": "4374039a",
   "metadata": {
    "scrolled": false
   },
   "outputs": [
    {
     "data": {
      "text/plain": [
       "(70000, 12)"
      ]
     },
     "execution_count": 9,
     "metadata": {},
     "output_type": "execute_result"
    }
   ],
   "source": [
    "#1  columns after drop id\n",
    "df.shape"
   ]
  },
  {
   "cell_type": "markdown",
   "id": "1f50628f",
   "metadata": {},
   "source": [
    "### 2 Transform `age` column into years instead of days.\n"
   ]
  },
  {
   "cell_type": "code",
   "execution_count": 10,
   "id": "f4d8c38a",
   "metadata": {},
   "outputs": [
    {
     "data": {
      "text/plain": [
       "0    18393\n",
       "1    20228\n",
       "2    18857\n",
       "Name: age, dtype: int64"
      ]
     },
     "execution_count": 10,
     "metadata": {},
     "output_type": "execute_result"
    }
   ],
   "source": [
    "#2 before \n",
    "df.age[:3]"
   ]
  },
  {
   "cell_type": "code",
   "execution_count": 11,
   "id": "b8ad0cfc",
   "metadata": {},
   "outputs": [],
   "source": [
    "#2 age from days to years\n",
    "df.age = np.round(df.age/365.25,decimals=1)"
   ]
  },
  {
   "cell_type": "markdown",
   "id": "dda115b4",
   "metadata": {},
   "source": [
    " use round function from numpy for rounding decimals \n"
   ]
  },
  {
   "cell_type": "code",
   "execution_count": 12,
   "id": "c26a8e5e",
   "metadata": {
    "scrolled": false
   },
   "outputs": [
    {
     "data": {
      "text/html": [
       "<div>\n",
       "<style scoped>\n",
       "    .dataframe tbody tr th:only-of-type {\n",
       "        vertical-align: middle;\n",
       "    }\n",
       "\n",
       "    .dataframe tbody tr th {\n",
       "        vertical-align: top;\n",
       "    }\n",
       "\n",
       "    .dataframe thead th {\n",
       "        text-align: right;\n",
       "    }\n",
       "</style>\n",
       "<table border=\"1\" class=\"dataframe\">\n",
       "  <thead>\n",
       "    <tr style=\"text-align: right;\">\n",
       "      <th></th>\n",
       "      <th>age</th>\n",
       "    </tr>\n",
       "  </thead>\n",
       "  <tbody>\n",
       "    <tr>\n",
       "      <th>22343</th>\n",
       "      <td>29.6</td>\n",
       "    </tr>\n",
       "    <tr>\n",
       "      <th>30666</th>\n",
       "      <td>29.7</td>\n",
       "    </tr>\n",
       "    <tr>\n",
       "      <th>6219</th>\n",
       "      <td>29.8</td>\n",
       "    </tr>\n",
       "    <tr>\n",
       "      <th>55905</th>\n",
       "      <td>30.0</td>\n",
       "    </tr>\n",
       "    <tr>\n",
       "      <th>44857</th>\n",
       "      <td>39.1</td>\n",
       "    </tr>\n",
       "    <tr>\n",
       "      <th>...</th>\n",
       "      <td>...</td>\n",
       "    </tr>\n",
       "    <tr>\n",
       "      <th>57191</th>\n",
       "      <td>64.9</td>\n",
       "    </tr>\n",
       "    <tr>\n",
       "      <th>50714</th>\n",
       "      <td>64.9</td>\n",
       "    </tr>\n",
       "    <tr>\n",
       "      <th>20931</th>\n",
       "      <td>64.9</td>\n",
       "    </tr>\n",
       "    <tr>\n",
       "      <th>36603</th>\n",
       "      <td>64.9</td>\n",
       "    </tr>\n",
       "    <tr>\n",
       "      <th>68005</th>\n",
       "      <td>64.9</td>\n",
       "    </tr>\n",
       "  </tbody>\n",
       "</table>\n",
       "<p>70000 rows × 1 columns</p>\n",
       "</div>"
      ],
      "text/plain": [
       "        age\n",
       "22343  29.6\n",
       "30666  29.7\n",
       "6219   29.8\n",
       "55905  30.0\n",
       "44857  39.1\n",
       "...     ...\n",
       "57191  64.9\n",
       "50714  64.9\n",
       "20931  64.9\n",
       "36603  64.9\n",
       "68005  64.9\n",
       "\n",
       "[70000 rows x 1 columns]"
      ]
     },
     "execution_count": 12,
     "metadata": {},
     "output_type": "execute_result"
    }
   ],
   "source": [
    "#2  after\n",
    "df[['age']].sort_values(by=['age'],ascending=True)"
   ]
  },
  {
   "cell_type": "markdown",
   "id": "1caf70f7",
   "metadata": {},
   "source": [
    "### 3 clean the unrealistic values in `ap_hi` and `ap_lo` "
   ]
  },
  {
   "cell_type": "markdown",
   "id": "49f69d49",
   "metadata": {},
   "source": [
    "<img src=\"https://www.28beaumontstreet.co.uk/media/content/images/bp-range-chart.jpg\" width=\"200\" height=\"200\">"
   ]
  },
  {
   "cell_type": "markdown",
   "id": "d18b52ae",
   "metadata": {},
   "source": [
    "the normal human blood pressure in Systolic blood pressure (ap_hi) between 70-190  \n",
    "and in Diastolic blood pressure (ap_lo) between 40-120\n"
   ]
  },
  {
   "cell_type": "markdown",
   "id": "e1eb801f",
   "metadata": {},
   "source": [
    "we have unreal readings in our data and we will drop them"
   ]
  },
  {
   "cell_type": "code",
   "execution_count": 13,
   "id": "0f2608eb",
   "metadata": {
    "scrolled": true
   },
   "outputs": [
    {
     "data": {
      "text/html": [
       "<div>\n",
       "<style scoped>\n",
       "    .dataframe tbody tr th:only-of-type {\n",
       "        vertical-align: middle;\n",
       "    }\n",
       "\n",
       "    .dataframe tbody tr th {\n",
       "        vertical-align: top;\n",
       "    }\n",
       "\n",
       "    .dataframe thead th {\n",
       "        text-align: right;\n",
       "    }\n",
       "</style>\n",
       "<table border=\"1\" class=\"dataframe\">\n",
       "  <thead>\n",
       "    <tr style=\"text-align: right;\">\n",
       "      <th></th>\n",
       "      <th>ap_hi</th>\n",
       "    </tr>\n",
       "  </thead>\n",
       "  <tbody>\n",
       "    <tr>\n",
       "      <th>35040</th>\n",
       "      <td>-150</td>\n",
       "    </tr>\n",
       "    <tr>\n",
       "      <th>23988</th>\n",
       "      <td>-140</td>\n",
       "    </tr>\n",
       "    <tr>\n",
       "      <th>46627</th>\n",
       "      <td>-120</td>\n",
       "    </tr>\n",
       "    <tr>\n",
       "      <th>25240</th>\n",
       "      <td>-120</td>\n",
       "    </tr>\n",
       "    <tr>\n",
       "      <th>16021</th>\n",
       "      <td>-115</td>\n",
       "    </tr>\n",
       "    <tr>\n",
       "      <th>...</th>\n",
       "      <td>...</td>\n",
       "    </tr>\n",
       "    <tr>\n",
       "      <th>47253</th>\n",
       "      <td>14020</td>\n",
       "    </tr>\n",
       "    <tr>\n",
       "      <th>25464</th>\n",
       "      <td>14020</td>\n",
       "    </tr>\n",
       "    <tr>\n",
       "      <th>25519</th>\n",
       "      <td>14020</td>\n",
       "    </tr>\n",
       "    <tr>\n",
       "      <th>46912</th>\n",
       "      <td>14020</td>\n",
       "    </tr>\n",
       "    <tr>\n",
       "      <th>40852</th>\n",
       "      <td>16020</td>\n",
       "    </tr>\n",
       "  </tbody>\n",
       "</table>\n",
       "<p>70000 rows × 1 columns</p>\n",
       "</div>"
      ],
      "text/plain": [
       "       ap_hi\n",
       "35040   -150\n",
       "23988   -140\n",
       "46627   -120\n",
       "25240   -120\n",
       "16021   -115\n",
       "...      ...\n",
       "47253  14020\n",
       "25464  14020\n",
       "25519  14020\n",
       "46912  14020\n",
       "40852  16020\n",
       "\n",
       "[70000 rows x 1 columns]"
      ]
     },
     "execution_count": 13,
     "metadata": {},
     "output_type": "execute_result"
    }
   ],
   "source": [
    "#3 before \n",
    "df[['ap_hi']].sort_values(by=['ap_hi'],ascending=True)"
   ]
  },
  {
   "cell_type": "code",
   "execution_count": 14,
   "id": "56af1912",
   "metadata": {
    "scrolled": true
   },
   "outputs": [
    {
     "data": {
      "text/html": [
       "<div>\n",
       "<style scoped>\n",
       "    .dataframe tbody tr th:only-of-type {\n",
       "        vertical-align: middle;\n",
       "    }\n",
       "\n",
       "    .dataframe tbody tr th {\n",
       "        vertical-align: top;\n",
       "    }\n",
       "\n",
       "    .dataframe thead th {\n",
       "        text-align: right;\n",
       "    }\n",
       "</style>\n",
       "<table border=\"1\" class=\"dataframe\">\n",
       "  <thead>\n",
       "    <tr style=\"text-align: right;\">\n",
       "      <th></th>\n",
       "      <th>ap_lo</th>\n",
       "    </tr>\n",
       "  </thead>\n",
       "  <tbody>\n",
       "    <tr>\n",
       "      <th>60106</th>\n",
       "      <td>-70</td>\n",
       "    </tr>\n",
       "    <tr>\n",
       "      <th>40330</th>\n",
       "      <td>0</td>\n",
       "    </tr>\n",
       "    <tr>\n",
       "      <th>42397</th>\n",
       "      <td>0</td>\n",
       "    </tr>\n",
       "    <tr>\n",
       "      <th>56950</th>\n",
       "      <td>0</td>\n",
       "    </tr>\n",
       "    <tr>\n",
       "      <th>63787</th>\n",
       "      <td>0</td>\n",
       "    </tr>\n",
       "    <tr>\n",
       "      <th>...</th>\n",
       "      <td>...</td>\n",
       "    </tr>\n",
       "    <tr>\n",
       "      <th>43434</th>\n",
       "      <td>9800</td>\n",
       "    </tr>\n",
       "    <tr>\n",
       "      <th>68538</th>\n",
       "      <td>10000</td>\n",
       "    </tr>\n",
       "    <tr>\n",
       "      <th>23849</th>\n",
       "      <td>10000</td>\n",
       "    </tr>\n",
       "    <tr>\n",
       "      <th>2381</th>\n",
       "      <td>10000</td>\n",
       "    </tr>\n",
       "    <tr>\n",
       "      <th>43326</th>\n",
       "      <td>11000</td>\n",
       "    </tr>\n",
       "  </tbody>\n",
       "</table>\n",
       "<p>70000 rows × 1 columns</p>\n",
       "</div>"
      ],
      "text/plain": [
       "       ap_lo\n",
       "60106    -70\n",
       "40330      0\n",
       "42397      0\n",
       "56950      0\n",
       "63787      0\n",
       "...      ...\n",
       "43434   9800\n",
       "68538  10000\n",
       "23849  10000\n",
       "2381   10000\n",
       "43326  11000\n",
       "\n",
       "[70000 rows x 1 columns]"
      ]
     },
     "execution_count": 14,
     "metadata": {},
     "output_type": "execute_result"
    }
   ],
   "source": [
    "#3 before \n",
    "df[['ap_lo']].sort_values(by=['ap_lo'],ascending=True)"
   ]
  },
  {
   "cell_type": "markdown",
   "id": "5d4e7801",
   "metadata": {},
   "source": [
    "test if the record want to drop is less than 5% of the data"
   ]
  },
  {
   "cell_type": "code",
   "execution_count": 15,
   "id": "cad3d8e2",
   "metadata": {
    "scrolled": true
   },
   "outputs": [
    {
     "data": {
      "text/plain": [
       "(70000,)"
      ]
     },
     "execution_count": 15,
     "metadata": {},
     "output_type": "execute_result"
    }
   ],
   "source": [
    "df.shape[0:1] #number of raws"
   ]
  },
  {
   "cell_type": "markdown",
   "id": "00f4f699",
   "metadata": {},
   "source": [
    "5% of 70000 is 3500\n",
    "\n",
    "so, more than 66500 is ok"
   ]
  },
  {
   "cell_type": "code",
   "execution_count": 16,
   "id": "39e5a84e",
   "metadata": {
    "scrolled": true
   },
   "outputs": [
    {
     "data": {
      "text/plain": [
       "(69757,)"
      ]
     },
     "execution_count": 16,
     "metadata": {},
     "output_type": "execute_result"
    }
   ],
   "source": [
    "# check the raws numbers if we drop\n",
    "#(ap_hi) between 70-190\n",
    "#(ap_lo) between 40-120\n",
    "del_df= df[(df['ap_lo']<=120) & (df['ap_hi']<=190)]\n",
    "del_df= df[(df['ap_lo']>=40) & (df['ap_hi']>=70)]\n",
    "del_df.shape[0:1] "
   ]
  },
  {
   "cell_type": "markdown",
   "id": "ec52be86",
   "metadata": {},
   "source": [
    "its ok"
   ]
  },
  {
   "cell_type": "code",
   "execution_count": 17,
   "id": "b3484cc5",
   "metadata": {},
   "outputs": [],
   "source": [
    "#3 drop unreal readings \n",
    "#(ap_hi) between 70-190\n",
    "#(ap_lo) between 40-120\n",
    "df= df[(df['ap_lo']<=120) & (df['ap_hi']<=190)]\n",
    "df= df[(df['ap_lo']>=40) & (df['ap_hi']>=70)]\n"
   ]
  },
  {
   "cell_type": "markdown",
   "id": "4ac6945b",
   "metadata": {},
   "source": [
    "now the max and min realiztic"
   ]
  },
  {
   "cell_type": "code",
   "execution_count": 18,
   "id": "f10d5281",
   "metadata": {},
   "outputs": [
    {
     "data": {
      "text/html": [
       "<div>\n",
       "<style scoped>\n",
       "    .dataframe tbody tr th:only-of-type {\n",
       "        vertical-align: middle;\n",
       "    }\n",
       "\n",
       "    .dataframe tbody tr th {\n",
       "        vertical-align: top;\n",
       "    }\n",
       "\n",
       "    .dataframe thead th {\n",
       "        text-align: right;\n",
       "    }\n",
       "</style>\n",
       "<table border=\"1\" class=\"dataframe\">\n",
       "  <thead>\n",
       "    <tr style=\"text-align: right;\">\n",
       "      <th></th>\n",
       "      <th>ap_lo</th>\n",
       "      <th>ap_hi</th>\n",
       "    </tr>\n",
       "  </thead>\n",
       "  <tbody>\n",
       "    <tr>\n",
       "      <th>count</th>\n",
       "      <td>68548.000000</td>\n",
       "      <td>68548.000000</td>\n",
       "    </tr>\n",
       "    <tr>\n",
       "      <th>mean</th>\n",
       "      <td>81.247593</td>\n",
       "      <td>126.452179</td>\n",
       "    </tr>\n",
       "    <tr>\n",
       "      <th>std</th>\n",
       "      <td>9.313123</td>\n",
       "      <td>16.301674</td>\n",
       "    </tr>\n",
       "    <tr>\n",
       "      <th>min</th>\n",
       "      <td>40.000000</td>\n",
       "      <td>70.000000</td>\n",
       "    </tr>\n",
       "    <tr>\n",
       "      <th>25%</th>\n",
       "      <td>80.000000</td>\n",
       "      <td>120.000000</td>\n",
       "    </tr>\n",
       "    <tr>\n",
       "      <th>50%</th>\n",
       "      <td>80.000000</td>\n",
       "      <td>120.000000</td>\n",
       "    </tr>\n",
       "    <tr>\n",
       "      <th>75%</th>\n",
       "      <td>90.000000</td>\n",
       "      <td>140.000000</td>\n",
       "    </tr>\n",
       "    <tr>\n",
       "      <th>max</th>\n",
       "      <td>120.000000</td>\n",
       "      <td>190.000000</td>\n",
       "    </tr>\n",
       "  </tbody>\n",
       "</table>\n",
       "</div>"
      ],
      "text/plain": [
       "              ap_lo         ap_hi\n",
       "count  68548.000000  68548.000000\n",
       "mean      81.247593    126.452179\n",
       "std        9.313123     16.301674\n",
       "min       40.000000     70.000000\n",
       "25%       80.000000    120.000000\n",
       "50%       80.000000    120.000000\n",
       "75%       90.000000    140.000000\n",
       "max      120.000000    190.000000"
      ]
     },
     "execution_count": 18,
     "metadata": {},
     "output_type": "execute_result"
    }
   ],
   "source": [
    "df[['ap_lo','ap_hi']].describe()"
   ]
  },
  {
   "cell_type": "markdown",
   "id": "0980780a",
   "metadata": {},
   "source": [
    "### 4 clean the unrealistic values in `height` and `weight` "
   ]
  },
  {
   "cell_type": "markdown",
   "id": "cc0865fc",
   "metadata": {},
   "source": [
    "<img src=\"https://www.disabled-world.com/pics/1/height-weight-ratio-chart.png\" width=\"500\" height=\"300\">"
   ]
  },
  {
   "cell_type": "markdown",
   "id": "4387ebbb",
   "metadata": {},
   "source": [
    "adlut height between 137-213\n",
    "\n",
    "adlut weight between 28.5-124.7\n"
   ]
  },
  {
   "cell_type": "code",
   "execution_count": 19,
   "id": "8c99e290",
   "metadata": {
    "scrolled": true
   },
   "outputs": [
    {
     "data": {
      "text/html": [
       "<div>\n",
       "<style scoped>\n",
       "    .dataframe tbody tr th:only-of-type {\n",
       "        vertical-align: middle;\n",
       "    }\n",
       "\n",
       "    .dataframe tbody tr th {\n",
       "        vertical-align: top;\n",
       "    }\n",
       "\n",
       "    .dataframe thead th {\n",
       "        text-align: right;\n",
       "    }\n",
       "</style>\n",
       "<table border=\"1\" class=\"dataframe\">\n",
       "  <thead>\n",
       "    <tr style=\"text-align: right;\">\n",
       "      <th></th>\n",
       "      <th>height</th>\n",
       "      <th>weight</th>\n",
       "    </tr>\n",
       "  </thead>\n",
       "  <tbody>\n",
       "    <tr>\n",
       "      <th>count</th>\n",
       "      <td>68548.000000</td>\n",
       "      <td>68548.000000</td>\n",
       "    </tr>\n",
       "    <tr>\n",
       "      <th>mean</th>\n",
       "      <td>164.362111</td>\n",
       "      <td>74.089397</td>\n",
       "    </tr>\n",
       "    <tr>\n",
       "      <th>std</th>\n",
       "      <td>8.179812</td>\n",
       "      <td>14.304198</td>\n",
       "    </tr>\n",
       "    <tr>\n",
       "      <th>min</th>\n",
       "      <td>55.000000</td>\n",
       "      <td>11.000000</td>\n",
       "    </tr>\n",
       "    <tr>\n",
       "      <th>25%</th>\n",
       "      <td>159.000000</td>\n",
       "      <td>65.000000</td>\n",
       "    </tr>\n",
       "    <tr>\n",
       "      <th>50%</th>\n",
       "      <td>165.000000</td>\n",
       "      <td>72.000000</td>\n",
       "    </tr>\n",
       "    <tr>\n",
       "      <th>75%</th>\n",
       "      <td>170.000000</td>\n",
       "      <td>82.000000</td>\n",
       "    </tr>\n",
       "    <tr>\n",
       "      <th>max</th>\n",
       "      <td>250.000000</td>\n",
       "      <td>200.000000</td>\n",
       "    </tr>\n",
       "  </tbody>\n",
       "</table>\n",
       "</div>"
      ],
      "text/plain": [
       "             height        weight\n",
       "count  68548.000000  68548.000000\n",
       "mean     164.362111     74.089397\n",
       "std        8.179812     14.304198\n",
       "min       55.000000     11.000000\n",
       "25%      159.000000     65.000000\n",
       "50%      165.000000     72.000000\n",
       "75%      170.000000     82.000000\n",
       "max      250.000000    200.000000"
      ]
     },
     "execution_count": 19,
     "metadata": {},
     "output_type": "execute_result"
    }
   ],
   "source": [
    "# the max and min not realiztic\n",
    "df[['height','weight']].describe()"
   ]
  },
  {
   "cell_type": "code",
   "execution_count": 20,
   "id": "e1577fb2",
   "metadata": {},
   "outputs": [
    {
     "data": {
      "text/plain": [
       "(68185,)"
      ]
     },
     "execution_count": 20,
     "metadata": {},
     "output_type": "execute_result"
    }
   ],
   "source": [
    "# check the raws numbers if we drop\n",
    "del_df = df[(df['height']<=213.0) & (df['height']>=137.0)]\n",
    "del_df = df[(df['weight']<=124.7) & (df['weight']>=28.5)]\n",
    "del_df.shape[0:1] "
   ]
  },
  {
   "cell_type": "markdown",
   "id": "77f517c5",
   "metadata": {},
   "source": [
    "its less than 5% so its ok"
   ]
  },
  {
   "cell_type": "code",
   "execution_count": 21,
   "id": "146cc258",
   "metadata": {},
   "outputs": [],
   "source": [
    "#4 drop the unreals\n",
    "#adlut height between 137-213\n",
    "#adlut weight between 28.5-124.7\n",
    "df = df[(df['height']<=213.0) & (df['height']>=137.0)]\n",
    "df = df[(df['weight']<=124.7) & (df['weight']>=28.5)]"
   ]
  },
  {
   "cell_type": "code",
   "execution_count": 22,
   "id": "2da6b255",
   "metadata": {},
   "outputs": [
    {
     "data": {
      "text/html": [
       "<div>\n",
       "<style scoped>\n",
       "    .dataframe tbody tr th:only-of-type {\n",
       "        vertical-align: middle;\n",
       "    }\n",
       "\n",
       "    .dataframe tbody tr th {\n",
       "        vertical-align: top;\n",
       "    }\n",
       "\n",
       "    .dataframe thead th {\n",
       "        text-align: right;\n",
       "    }\n",
       "</style>\n",
       "<table border=\"1\" class=\"dataframe\">\n",
       "  <thead>\n",
       "    <tr style=\"text-align: right;\">\n",
       "      <th></th>\n",
       "      <th>height</th>\n",
       "      <th>weight</th>\n",
       "    </tr>\n",
       "  </thead>\n",
       "  <tbody>\n",
       "    <tr>\n",
       "      <th>count</th>\n",
       "      <td>68072.000000</td>\n",
       "      <td>68072.000000</td>\n",
       "    </tr>\n",
       "    <tr>\n",
       "      <th>mean</th>\n",
       "      <td>164.427562</td>\n",
       "      <td>73.766033</td>\n",
       "    </tr>\n",
       "    <tr>\n",
       "      <th>std</th>\n",
       "      <td>7.799930</td>\n",
       "      <td>13.536602</td>\n",
       "    </tr>\n",
       "    <tr>\n",
       "      <th>min</th>\n",
       "      <td>137.000000</td>\n",
       "      <td>29.000000</td>\n",
       "    </tr>\n",
       "    <tr>\n",
       "      <th>25%</th>\n",
       "      <td>159.000000</td>\n",
       "      <td>65.000000</td>\n",
       "    </tr>\n",
       "    <tr>\n",
       "      <th>50%</th>\n",
       "      <td>165.000000</td>\n",
       "      <td>72.000000</td>\n",
       "    </tr>\n",
       "    <tr>\n",
       "      <th>75%</th>\n",
       "      <td>170.000000</td>\n",
       "      <td>82.000000</td>\n",
       "    </tr>\n",
       "    <tr>\n",
       "      <th>max</th>\n",
       "      <td>207.000000</td>\n",
       "      <td>124.000000</td>\n",
       "    </tr>\n",
       "  </tbody>\n",
       "</table>\n",
       "</div>"
      ],
      "text/plain": [
       "             height        weight\n",
       "count  68072.000000  68072.000000\n",
       "mean     164.427562     73.766033\n",
       "std        7.799930     13.536602\n",
       "min      137.000000     29.000000\n",
       "25%      159.000000     65.000000\n",
       "50%      165.000000     72.000000\n",
       "75%      170.000000     82.000000\n",
       "max      207.000000    124.000000"
      ]
     },
     "execution_count": 22,
     "metadata": {},
     "output_type": "execute_result"
    }
   ],
   "source": [
    "# the max and min realiztic\n",
    "df[['height','weight']].describe()"
   ]
  },
  {
   "cell_type": "markdown",
   "id": "02f58d59",
   "metadata": {},
   "source": [
    " ### 5 add **Body Mass Index (BMI)** column"
   ]
  },
  {
   "cell_type": "markdown",
   "id": "7eb20f9d",
   "metadata": {},
   "source": [
    "Let's create a new feature - Body Mass Index (BMI):\n",
    "\n",
    "$$BMI = \\frac {mass_{kg}} {height ^2_{m}},$$\n",
    "\n",
    "it's easier to compute BMI instead of height and weight"
   ]
  },
  {
   "cell_type": "markdown",
   "id": "007dc3a9",
   "metadata": {},
   "source": [
    "<img src=\"https://images.theconversation.com/files/349366/original/file-20200724-25-osy3a3.PNG?ixlib=rb-1.1.0&q=45&auto=format&w=754&fit=clip\" width=\"400\" height=\"200\">"
   ]
  },
  {
   "cell_type": "markdown",
   "id": "7e46e0fd",
   "metadata": {},
   "source": [
    "BMI btween 18.5-40"
   ]
  },
  {
   "cell_type": "code",
   "execution_count": 23,
   "id": "3662025d",
   "metadata": {},
   "outputs": [],
   "source": [
    "# add the feature\n",
    "df['BMI'] = df['weight']/((df['height']/100)**2)"
   ]
  },
  {
   "cell_type": "code",
   "execution_count": 24,
   "id": "093c2d44",
   "metadata": {
    "scrolled": false
   },
   "outputs": [
    {
     "data": {
      "text/html": [
       "<div>\n",
       "<style scoped>\n",
       "    .dataframe tbody tr th:only-of-type {\n",
       "        vertical-align: middle;\n",
       "    }\n",
       "\n",
       "    .dataframe tbody tr th {\n",
       "        vertical-align: top;\n",
       "    }\n",
       "\n",
       "    .dataframe thead th {\n",
       "        text-align: right;\n",
       "    }\n",
       "</style>\n",
       "<table border=\"1\" class=\"dataframe\">\n",
       "  <thead>\n",
       "    <tr style=\"text-align: right;\">\n",
       "      <th></th>\n",
       "      <th>BMI</th>\n",
       "    </tr>\n",
       "  </thead>\n",
       "  <tbody>\n",
       "    <tr>\n",
       "      <th>60699</th>\n",
       "      <td>9.917581</td>\n",
       "    </tr>\n",
       "    <tr>\n",
       "      <th>16906</th>\n",
       "      <td>10.726644</td>\n",
       "    </tr>\n",
       "    <tr>\n",
       "      <th>18559</th>\n",
       "      <td>11.718750</td>\n",
       "    </tr>\n",
       "    <tr>\n",
       "      <th>58200</th>\n",
       "      <td>12.254473</td>\n",
       "    </tr>\n",
       "    <tr>\n",
       "      <th>16322</th>\n",
       "      <td>12.855831</td>\n",
       "    </tr>\n",
       "    <tr>\n",
       "      <th>...</th>\n",
       "      <td>...</td>\n",
       "    </tr>\n",
       "    <tr>\n",
       "      <th>66997</th>\n",
       "      <td>54.666667</td>\n",
       "    </tr>\n",
       "    <tr>\n",
       "      <th>69708</th>\n",
       "      <td>55.459105</td>\n",
       "    </tr>\n",
       "    <tr>\n",
       "      <th>15319</th>\n",
       "      <td>56.295740</td>\n",
       "    </tr>\n",
       "    <tr>\n",
       "      <th>49377</th>\n",
       "      <td>57.870370</td>\n",
       "    </tr>\n",
       "    <tr>\n",
       "      <th>28448</th>\n",
       "      <td>58.024202</td>\n",
       "    </tr>\n",
       "  </tbody>\n",
       "</table>\n",
       "<p>68072 rows × 1 columns</p>\n",
       "</div>"
      ],
      "text/plain": [
       "             BMI\n",
       "60699   9.917581\n",
       "16906  10.726644\n",
       "18559  11.718750\n",
       "58200  12.254473\n",
       "16322  12.855831\n",
       "...          ...\n",
       "66997  54.666667\n",
       "69708  55.459105\n",
       "15319  56.295740\n",
       "49377  57.870370\n",
       "28448  58.024202\n",
       "\n",
       "[68072 rows x 1 columns]"
      ]
     },
     "execution_count": 24,
     "metadata": {},
     "output_type": "execute_result"
    }
   ],
   "source": [
    "# not realiztic\n",
    "df[['BMI']].sort_values(by=['BMI'],ascending=True)"
   ]
  },
  {
   "cell_type": "code",
   "execution_count": 25,
   "id": "ddaa483b",
   "metadata": {},
   "outputs": [
    {
     "data": {
      "text/plain": [
       "(66054,)"
      ]
     },
     "execution_count": 25,
     "metadata": {},
     "output_type": "execute_result"
    }
   ],
   "source": [
    "# check the raws numbers if we drop\n",
    "del_df = df[(df['BMI']<40.0) & (df['BMI']>18.5)]\n",
    "del_df.shape[0:1] "
   ]
  },
  {
   "cell_type": "markdown",
   "id": "a1097b58",
   "metadata": {},
   "source": [
    "its less than 5% so its ok"
   ]
  },
  {
   "cell_type": "code",
   "execution_count": 26,
   "id": "53c181f4",
   "metadata": {},
   "outputs": [],
   "source": [
    "# cant be less than 18.5 and more than 40, so drop unreals\n",
    "df = df[(df['BMI']<40.0) & (df['BMI']>18.5)]"
   ]
  },
  {
   "cell_type": "code",
   "execution_count": 27,
   "id": "6ee7bd01",
   "metadata": {},
   "outputs": [
    {
     "data": {
      "text/html": [
       "<div>\n",
       "<style scoped>\n",
       "    .dataframe tbody tr th:only-of-type {\n",
       "        vertical-align: middle;\n",
       "    }\n",
       "\n",
       "    .dataframe tbody tr th {\n",
       "        vertical-align: top;\n",
       "    }\n",
       "\n",
       "    .dataframe thead th {\n",
       "        text-align: right;\n",
       "    }\n",
       "</style>\n",
       "<table border=\"1\" class=\"dataframe\">\n",
       "  <thead>\n",
       "    <tr style=\"text-align: right;\">\n",
       "      <th></th>\n",
       "      <th>BMI</th>\n",
       "    </tr>\n",
       "  </thead>\n",
       "  <tbody>\n",
       "    <tr>\n",
       "      <th>46646</th>\n",
       "      <td>18.507766</td>\n",
       "    </tr>\n",
       "    <tr>\n",
       "      <th>25855</th>\n",
       "      <td>18.507766</td>\n",
       "    </tr>\n",
       "    <tr>\n",
       "      <th>16208</th>\n",
       "      <td>18.507766</td>\n",
       "    </tr>\n",
       "    <tr>\n",
       "      <th>60844</th>\n",
       "      <td>18.507766</td>\n",
       "    </tr>\n",
       "    <tr>\n",
       "      <th>10612</th>\n",
       "      <td>18.507766</td>\n",
       "    </tr>\n",
       "    <tr>\n",
       "      <th>...</th>\n",
       "      <td>...</td>\n",
       "    </tr>\n",
       "    <tr>\n",
       "      <th>8959</th>\n",
       "      <td>39.958377</td>\n",
       "    </tr>\n",
       "    <tr>\n",
       "      <th>65510</th>\n",
       "      <td>39.958377</td>\n",
       "    </tr>\n",
       "    <tr>\n",
       "      <th>35444</th>\n",
       "      <td>39.959508</td>\n",
       "    </tr>\n",
       "    <tr>\n",
       "      <th>56331</th>\n",
       "      <td>39.965649</td>\n",
       "    </tr>\n",
       "    <tr>\n",
       "      <th>52820</th>\n",
       "      <td>39.965649</td>\n",
       "    </tr>\n",
       "  </tbody>\n",
       "</table>\n",
       "<p>66054 rows × 1 columns</p>\n",
       "</div>"
      ],
      "text/plain": [
       "             BMI\n",
       "46646  18.507766\n",
       "25855  18.507766\n",
       "16208  18.507766\n",
       "60844  18.507766\n",
       "10612  18.507766\n",
       "...          ...\n",
       "8959   39.958377\n",
       "65510  39.958377\n",
       "35444  39.959508\n",
       "56331  39.965649\n",
       "52820  39.965649\n",
       "\n",
       "[66054 rows x 1 columns]"
      ]
     },
     "execution_count": 27,
     "metadata": {},
     "output_type": "execute_result"
    }
   ],
   "source": [
    "# realiztic\n",
    "df[['BMI']].sort_values(by=['BMI'],ascending=True)"
   ]
  },
  {
   "cell_type": "markdown",
   "id": "bf78d497",
   "metadata": {},
   "source": [
    "### 6 change the encode for `gender` from 1-2 to F-M"
   ]
  },
  {
   "cell_type": "code",
   "execution_count": 28,
   "id": "05c0afac",
   "metadata": {
    "scrolled": false
   },
   "outputs": [
    {
     "data": {
      "text/plain": [
       "array([2, 1], dtype=int64)"
      ]
     },
     "execution_count": 28,
     "metadata": {},
     "output_type": "execute_result"
    }
   ],
   "source": [
    "df[\"gender\"].unique()"
   ]
  },
  {
   "cell_type": "markdown",
   "id": "a3e4843a",
   "metadata": {},
   "source": [
    "we dont have info who is 1 or 2"
   ]
  },
  {
   "cell_type": "markdown",
   "id": "46799f81",
   "metadata": {},
   "source": [
    "so this next cell can know besided on info that the height avg. of male is more than female "
   ]
  },
  {
   "cell_type": "code",
   "execution_count": 29,
   "id": "bec8f903",
   "metadata": {},
   "outputs": [
    {
     "name": "stdout",
     "output_type": "stream",
     "text": [
      "Gender:1 is female & Gender:2 is male\n"
     ]
    }
   ],
   "source": [
    "#take the mean of both 1 and 2\n",
    "a = df[df[\"gender\"]==1][\"height\"].mean()\n",
    "b = df[df[\"gender\"]==2][\"height\"].mean()\n",
    "\n",
    "# compare\n",
    "if a > b:\n",
    "    gender = \"male\"\n",
    "    gender1 = \"female\"\n",
    "else:\n",
    "    gender = \"female\"\n",
    "    gender1 = \"male\"\n",
    "    \n",
    "print(\"Gender:1 is \"+ gender +\" & Gender:2 is \" + gender1)"
   ]
  },
  {
   "cell_type": "code",
   "execution_count": 30,
   "id": "536cfd52",
   "metadata": {},
   "outputs": [],
   "source": [
    "# use lambda fun. to change the 1,2 to f.m\n",
    "df['gender'] = df['gender'].apply(lambda x: 'F' if x == 1 else 'M')"
   ]
  },
  {
   "cell_type": "code",
   "execution_count": 31,
   "id": "1f325e6f",
   "metadata": {
    "scrolled": false
   },
   "outputs": [
    {
     "data": {
      "text/plain": [
       "F    42665\n",
       "M    23389\n",
       "Name: gender, dtype: int64"
      ]
     },
     "execution_count": 31,
     "metadata": {},
     "output_type": "execute_result"
    }
   ],
   "source": [
    "df.gender.value_counts()"
   ]
  },
  {
   "cell_type": "markdown",
   "id": "b6a5b319",
   "metadata": {},
   "source": [
    "### 7 check for **duplicated** data"
   ]
  },
  {
   "cell_type": "code",
   "execution_count": 32,
   "id": "dbbb098b",
   "metadata": {
    "scrolled": false
   },
   "outputs": [
    {
     "data": {
      "text/plain": [
       "(66054, 13)"
      ]
     },
     "execution_count": 32,
     "metadata": {},
     "output_type": "execute_result"
    }
   ],
   "source": [
    "# check the rows and columns\n",
    "df.shape"
   ]
  },
  {
   "cell_type": "code",
   "execution_count": 33,
   "id": "7a223789",
   "metadata": {
    "scrolled": false
   },
   "outputs": [
    {
     "data": {
      "text/plain": [
       "673"
      ]
     },
     "execution_count": 33,
     "metadata": {},
     "output_type": "execute_result"
    }
   ],
   "source": [
    "# see how much duplicated rows\n",
    "df.duplicated().sum()"
   ]
  },
  {
   "cell_type": "code",
   "execution_count": 34,
   "id": "80e96c00",
   "metadata": {},
   "outputs": [],
   "source": [
    "#drpp the 673 duplicated raw\n",
    "df.drop_duplicates(inplace=True)"
   ]
  },
  {
   "cell_type": "code",
   "execution_count": 35,
   "id": "3688daeb",
   "metadata": {
    "scrolled": false
   },
   "outputs": [
    {
     "data": {
      "text/plain": [
       "0"
      ]
     },
     "execution_count": 35,
     "metadata": {},
     "output_type": "execute_result"
    }
   ],
   "source": [
    "# now we should have 0\n",
    "df.duplicated().sum()"
   ]
  },
  {
   "cell_type": "code",
   "execution_count": 36,
   "id": "0187938f",
   "metadata": {
    "scrolled": true
   },
   "outputs": [
    {
     "data": {
      "text/plain": [
       "(65381, 13)"
      ]
     },
     "execution_count": 36,
     "metadata": {},
     "output_type": "execute_result"
    }
   ],
   "source": [
    "# check the rows and columns\n",
    "df.shape"
   ]
  },
  {
   "cell_type": "markdown",
   "id": "6155bc0f",
   "metadata": {},
   "source": [
    "# -------------------------------------------------------------------------------------------"
   ]
  },
  {
   "cell_type": "markdown",
   "id": "b77b81da",
   "metadata": {},
   "source": [
    "### EDA:"
   ]
  },
  {
   "cell_type": "markdown",
   "id": "4f263abc",
   "metadata": {},
   "source": [
    "## Questions:\n"
   ]
  },
  {
   "cell_type": "markdown",
   "id": "4f4aef8f",
   "metadata": {},
   "source": [
    "* 1 Which gender has more has cardiovascular disease?\n",
    "* 2 Which age group has more has cardiovascular disease?\n",
    "* 3 Blood pressure effect the cardiovascular disease?\n"
   ]
  },
  {
   "cell_type": "markdown",
   "id": "6807a2f8",
   "metadata": {},
   "source": [
    "### 1 Which gender has more cardiovascular disease?"
   ]
  },
  {
   "cell_type": "code",
   "execution_count": 67,
   "id": "7b4d3d03",
   "metadata": {
    "scrolled": true
   },
   "outputs": [
    {
     "name": "stderr",
     "output_type": "stream",
     "text": [
      "C:\\Users\\ichra\\anaconda3\\lib\\site-packages\\seaborn\\_decorators.py:36: FutureWarning: Pass the following variable as a keyword arg: x. From version 0.12, the only valid positional argument will be `data`, and passing other arguments without an explicit keyword will result in an error or misinterpretation.\n",
      "  warnings.warn(\n"
     ]
    },
    {
     "data": {
      "image/png": "[encoded data removed]",
      "text/plain": [
       "<Figure size 504x360 with 1 Axes>"
      ]
     },
     "metadata": {},
     "output_type": "display_data"
    }
   ],
   "source": [
    "sns.set_style('whitegrid') #to make white grid in the graph\n",
    "sns.set(rc={'figure.figsize':(7,5)}) # for edit size\n",
    "sns.countplot(df.gender,hue=df.cardio, palette=\"Set3\"); #make the graph\n",
    "plt.title('cardio with gender'); # add title"
   ]
  },
  {
   "cell_type": "code",
   "execution_count": 39,
   "id": "1cdfd086",
   "metadata": {
    "scrolled": true
   },
   "outputs": [
    {
     "data": {
      "text/html": [
       "<div>\n",
       "<style scoped>\n",
       "    .dataframe tbody tr th:only-of-type {\n",
       "        vertical-align: middle;\n",
       "    }\n",
       "\n",
       "    .dataframe tbody tr th {\n",
       "        vertical-align: top;\n",
       "    }\n",
       "\n",
       "    .dataframe thead th {\n",
       "        text-align: right;\n",
       "    }\n",
       "</style>\n",
       "<table border=\"1\" class=\"dataframe\">\n",
       "  <thead>\n",
       "    <tr style=\"text-align: right;\">\n",
       "      <th></th>\n",
       "      <th></th>\n",
       "      <th>cardio</th>\n",
       "    </tr>\n",
       "    <tr>\n",
       "      <th>gender</th>\n",
       "      <th>cardio</th>\n",
       "      <th></th>\n",
       "    </tr>\n",
       "  </thead>\n",
       "  <tbody>\n",
       "    <tr>\n",
       "      <th rowspan=\"2\" valign=\"top\">F</th>\n",
       "      <th>0</th>\n",
       "      <td>21467</td>\n",
       "    </tr>\n",
       "    <tr>\n",
       "      <th>1</th>\n",
       "      <td>20640</td>\n",
       "    </tr>\n",
       "    <tr>\n",
       "      <th rowspan=\"2\" valign=\"top\">M</th>\n",
       "      <th>0</th>\n",
       "      <td>11657</td>\n",
       "    </tr>\n",
       "    <tr>\n",
       "      <th>1</th>\n",
       "      <td>11617</td>\n",
       "    </tr>\n",
       "  </tbody>\n",
       "</table>\n",
       "</div>"
      ],
      "text/plain": [
       "               cardio\n",
       "gender cardio        \n",
       "F      0        21467\n",
       "       1        20640\n",
       "M      0        11657\n",
       "       1        11617"
      ]
     },
     "execution_count": 39,
     "metadata": {},
     "output_type": "execute_result"
    }
   ],
   "source": [
    "# show count of cardio in every gender\n",
    "df.groupby(['gender', 'cardio']).agg({'cardio': 'count'})"
   ]
  },
  {
   "cell_type": "markdown",
   "id": "d15a06aa",
   "metadata": {},
   "source": [
    "the females is more than males so lets try another way with percent (%)"
   ]
  },
  {
   "cell_type": "code",
   "execution_count": 40,
   "id": "4fb96c6b",
   "metadata": {
    "scrolled": false
   },
   "outputs": [
    {
     "data": {
      "text/html": [
       "<div>\n",
       "<style scoped>\n",
       "    .dataframe tbody tr th:only-of-type {\n",
       "        vertical-align: middle;\n",
       "    }\n",
       "\n",
       "    .dataframe tbody tr th {\n",
       "        vertical-align: top;\n",
       "    }\n",
       "\n",
       "    .dataframe thead th {\n",
       "        text-align: right;\n",
       "    }\n",
       "</style>\n",
       "<table border=\"1\" class=\"dataframe\">\n",
       "  <thead>\n",
       "    <tr style=\"text-align: right;\">\n",
       "      <th></th>\n",
       "      <th></th>\n",
       "      <th>cardio</th>\n",
       "    </tr>\n",
       "    <tr>\n",
       "      <th>gender</th>\n",
       "      <th>cardio</th>\n",
       "      <th></th>\n",
       "    </tr>\n",
       "  </thead>\n",
       "  <tbody>\n",
       "    <tr>\n",
       "      <th rowspan=\"2\" valign=\"top\">F</th>\n",
       "      <th>0</th>\n",
       "      <td>50.982022</td>\n",
       "    </tr>\n",
       "    <tr>\n",
       "      <th>1</th>\n",
       "      <td>49.017978</td>\n",
       "    </tr>\n",
       "    <tr>\n",
       "      <th rowspan=\"2\" valign=\"top\">M</th>\n",
       "      <th>0</th>\n",
       "      <td>50.085933</td>\n",
       "    </tr>\n",
       "    <tr>\n",
       "      <th>1</th>\n",
       "      <td>49.914067</td>\n",
       "    </tr>\n",
       "  </tbody>\n",
       "</table>\n",
       "</div>"
      ],
      "text/plain": [
       "                  cardio\n",
       "gender cardio           \n",
       "F      0       50.982022\n",
       "       1       49.017978\n",
       "M      0       50.085933\n",
       "       1       49.914067"
      ]
     },
     "execution_count": 40,
     "metadata": {},
     "output_type": "execute_result"
    }
   ],
   "source": [
    "# show count of cardio in every gender in percent\n",
    "gender_cardio = df.groupby(['gender', 'cardio']).agg({'cardio': 'count'})\n",
    "gender = df.groupby(['gender']).agg({'cardio': 'count'})\n",
    "gender_cardio.div(gender, level='gender')* 100"
   ]
  },
  {
   "cell_type": "markdown",
   "id": "015f15c5",
   "metadata": {},
   "source": [
    "the females more than males in this dataset but when it come with percent they almost **50/50** to have cardiovascular disease "
   ]
  },
  {
   "cell_type": "markdown",
   "id": "f8a11180",
   "metadata": {},
   "source": [
    "### 2 Which age group has more has cardiovascular disease?\n"
   ]
  },
  {
   "cell_type": "markdown",
   "id": "29a1d965",
   "metadata": {},
   "source": [
    "most the ages that has cardio btween 50-60"
   ]
  },
  {
   "cell_type": "code",
   "execution_count": 41,
   "id": "fe1d2a07",
   "metadata": {
    "scrolled": true
   },
   "outputs": [
    {
     "data": {
      "image/png": "[encoded data removed]",
      "text/plain": [
       "<Figure size 432x288 with 1 Axes>"
      ]
     },
     "metadata": {},
     "output_type": "display_data"
    }
   ],
   "source": [
    "sns.boxplot( x=\"cardio\", y=\"age\", data=df); # make boxplot\n",
    "plt.title('cardio with age'); #set title"
   ]
  },
  {
   "cell_type": "markdown",
   "id": "dcb9b26e",
   "metadata": {},
   "source": [
    "### 3 Patients with cardiovascular disease have high Blood pressure?"
   ]
  },
  {
   "cell_type": "markdown",
   "id": "fd3e8a09",
   "metadata": {},
   "source": [
    "Yes, they have higher than patients they dont"
   ]
  },
  {
   "cell_type": "code",
   "execution_count": 42,
   "id": "808bf49f",
   "metadata": {},
   "outputs": [
    {
     "data": {
      "image/png": "[encoded data removed]",
      "text/plain": [
       "<Figure size 432x288 with 1 Axes>"
      ]
     },
     "metadata": {},
     "output_type": "display_data"
    }
   ],
   "source": [
    "sns.boxplot( x=\"cardio\", y=\"ap_lo\", data=df); # make boxplot\n",
    "plt.title('cardio with ap_lo'); #set title"
   ]
  },
  {
   "cell_type": "code",
   "execution_count": 43,
   "id": "fc977041",
   "metadata": {},
   "outputs": [
    {
     "data": {
      "image/png": "[encoded data removed]",
      "text/plain": [
       "<Figure size 432x288 with 1 Axes>"
      ]
     },
     "metadata": {},
     "output_type": "display_data"
    }
   ],
   "source": [
    "sns.boxplot( x=\"cardio\", y=\"ap_hi\", data=df); # make boxplot\n",
    "plt.title('cardio with ap_hi'); #set title"
   ]
  },
  {
   "cell_type": "markdown",
   "id": "57b0e3de",
   "metadata": {},
   "source": [
    "# -------------------------------------------------------------------------------------------"
   ]
  },
  {
   "cell_type": "markdown",
   "id": "6e26bf7e",
   "metadata": {},
   "source": [
    "## Model :"
   ]
  },
  {
   "cell_type": "markdown",
   "id": "189236d0",
   "metadata": {},
   "source": [
    "we will use **Logistic Regression** for predictions if a patient has cardiovascular disease or not"
   ]
  },
  {
   "cell_type": "markdown",
   "id": "8a44bf0a",
   "metadata": {},
   "source": [
    "* Step 1: Feature selection\n",
    "* Step 2: Split the data\n",
    "* Step 3: Scale the train data\n",
    "* Step 4: Use Logistic Regression "
   ]
  },
  {
   "cell_type": "markdown",
   "id": "a92ddf48",
   "metadata": {},
   "source": [
    "### Step 1: Feature selection"
   ]
  },
  {
   "cell_type": "code",
   "execution_count": 45,
   "id": "cdcfa7d0",
   "metadata": {
    "scrolled": false
   },
   "outputs": [
    {
     "data": {
      "text/plain": [
       "cardio         1.000000\n",
       "ap_hi          0.429374\n",
       "ap_lo          0.336169\n",
       "age            0.239377\n",
       "cholesterol    0.218216\n",
       "BMI            0.183562\n",
       "weight         0.167538\n",
       "gluc           0.086210\n",
       "height        -0.007635\n",
       "alco          -0.010798\n",
       "smoke         -0.017629\n",
       "active        -0.034054\n",
       "Name: cardio, dtype: float64"
      ]
     },
     "execution_count": 45,
     "metadata": {},
     "output_type": "execute_result"
    }
   ],
   "source": [
    "df.corr()['cardio'].sort_values(ascending=False) #show correlation for cardio with other features"
   ]
  },
  {
   "cell_type": "markdown",
   "id": "55217516",
   "metadata": {},
   "source": [
    "Features `ap_hi, ap_lo` are higher (moderate positive correlation) correlation with `cardio`"
   ]
  },
  {
   "cell_type": "markdown",
   "id": "e131278c",
   "metadata": {},
   "source": [
    "Feature `cardio` is the predict target to predict the patient have cardiovascular disease or not"
   ]
  },
  {
   "cell_type": "markdown",
   "id": "2dcc3b93",
   "metadata": {},
   "source": [
    "### Step 2 : Split the data"
   ]
  },
  {
   "cell_type": "code",
   "execution_count": 46,
   "id": "fb12d0a2",
   "metadata": {},
   "outputs": [],
   "source": [
    "X = df[['ap_hi', 'ap_lo']] #seleced feature\n",
    "y = df['cardio'] #target feature"
   ]
  },
  {
   "cell_type": "code",
   "execution_count": 47,
   "id": "45159f33",
   "metadata": {},
   "outputs": [],
   "source": [
    "X_train, X_test, y_train, y_test = train_test_split(X, y, test_size=0.2, random_state=42) #split"
   ]
  },
  {
   "cell_type": "markdown",
   "id": "cfd79d06",
   "metadata": {},
   "source": [
    "### Step 3: Scale the train data and test data"
   ]
  },
  {
   "cell_type": "code",
   "execution_count": 48,
   "id": "13bb3122",
   "metadata": {},
   "outputs": [],
   "source": [
    "sc = StandardScaler() # use StandardScaler\n",
    "lr = LogisticRegression() # use LogisticRegression"
   ]
  },
  {
   "cell_type": "code",
   "execution_count": 49,
   "id": "4eb79178",
   "metadata": {},
   "outputs": [],
   "source": [
    "X_train_sc = sc.fit_transform(X_train) # Scale train"
   ]
  },
  {
   "cell_type": "code",
   "execution_count": 50,
   "id": "a416ee2b",
   "metadata": {},
   "outputs": [],
   "source": [
    "X_test_sc = sc.transform(X_test)  # Scale test"
   ]
  },
  {
   "cell_type": "markdown",
   "id": "701ba7a7",
   "metadata": {},
   "source": [
    "### Step 4: Use Logistic Regression "
   ]
  },
  {
   "cell_type": "code",
   "execution_count": 51,
   "id": "9a39940c",
   "metadata": {},
   "outputs": [
    {
     "data": {
      "text/plain": [
       "LogisticRegression()"
      ]
     },
     "execution_count": 51,
     "metadata": {},
     "output_type": "execute_result"
    }
   ],
   "source": [
    "lr.fit(X_train_sc,y_train) # use LogisticRegression"
   ]
  },
  {
   "cell_type": "code",
   "execution_count": 52,
   "id": "1a701a43",
   "metadata": {
    "scrolled": true
   },
   "outputs": [
    {
     "data": {
      "text/plain": [
       "0.7125458855919241"
      ]
     },
     "execution_count": 52,
     "metadata": {},
     "output_type": "execute_result"
    }
   ],
   "source": [
    "lr.score(X_train_sc,y_train) #show the train score"
   ]
  },
  {
   "cell_type": "markdown",
   "id": "f9b4f3d2",
   "metadata": {},
   "source": [
    "train score  = 0.71"
   ]
  },
  {
   "cell_type": "code",
   "execution_count": 53,
   "id": "a39818ea",
   "metadata": {},
   "outputs": [],
   "source": [
    "y_pred=lr.predict(X_test_sc) # Estimated target"
   ]
  },
  {
   "cell_type": "code",
   "execution_count": 54,
   "id": "683ad16d",
   "metadata": {},
   "outputs": [
    {
     "data": {
      "text/plain": [
       "0.7056664372562514"
      ]
     },
     "execution_count": 54,
     "metadata": {},
     "output_type": "execute_result"
    }
   ],
   "source": [
    "accuracy_score(y_test,y_pred) #test result"
   ]
  },
  {
   "cell_type": "markdown",
   "id": "83ca434b",
   "metadata": {},
   "source": [
    "the train score is 0.71 \n",
    "\n",
    "and the test score was 0.705 almost 0.71 "
   ]
  },
  {
   "cell_type": "code",
   "execution_count": 55,
   "id": "c910a41e",
   "metadata": {
    "scrolled": true
   },
   "outputs": [
    {
     "data": {
      "text/plain": [
       "0    33124\n",
       "1    32257\n",
       "Name: cardio, dtype: int64"
      ]
     },
     "execution_count": 55,
     "metadata": {},
     "output_type": "execute_result"
    }
   ],
   "source": [
    "df['cardio'].value_counts() #  balanced data"
   ]
  },
  {
   "cell_type": "markdown",
   "id": "6d87fc42",
   "metadata": {},
   "source": [
    "we have balanced data"
   ]
  },
  {
   "cell_type": "markdown",
   "id": "ecb1297c",
   "metadata": {},
   "source": [
    "### Classification report"
   ]
  },
  {
   "cell_type": "markdown",
   "id": "03daeb49",
   "metadata": {},
   "source": [
    "to measure the quality of predictions"
   ]
  },
  {
   "cell_type": "code",
   "execution_count": 57,
   "id": "2dca62e0",
   "metadata": {
    "scrolled": true
   },
   "outputs": [
    {
     "name": "stdout",
     "output_type": "stream",
     "text": [
      "              precision    recall  f1-score   support\n",
      "\n",
      "           0       0.67      0.81      0.73      6517\n",
      "           1       0.76      0.61      0.67      6560\n",
      "\n",
      "    accuracy                           0.71     13077\n",
      "   macro avg       0.71      0.71      0.70     13077\n",
      "weighted avg       0.71      0.71      0.70     13077\n",
      "\n"
     ]
    }
   ],
   "source": [
    "print(classification_report(y_test,y_pred))"
   ]
  },
  {
   "cell_type": "markdown",
   "id": "a00abfa1",
   "metadata": {},
   "source": [
    "Precision is Accuracy of positive predictions."
   ]
  },
  {
   "cell_type": "code",
   "execution_count": 58,
   "id": "0225ef04",
   "metadata": {
    "scrolled": true
   },
   "outputs": [
    {
     "name": "stdout",
     "output_type": "stream",
     "text": [
      "[[5255 1262]\n",
      " [2587 3973]]\n"
     ]
    }
   ],
   "source": [
    "print(confusion_matrix(y_test, y_pred))"
   ]
  },
  {
   "cell_type": "markdown",
   "id": "bf38bdf1",
   "metadata": {},
   "source": [
    "<img src=\"https://sebastianraschka.com/images/faq/multiclass-metric/conf_mat.png\" width=\"200\" height=\"100\">\n"
   ]
  },
  {
   "cell_type": "code",
   "execution_count": null,
   "id": "155f02ea",
   "metadata": {},
   "outputs": [],
   "source": []
  }
 ],
 "metadata": {
  "kernelspec": {
   "display_name": "Python 3 (ipykernel)",
   "language": "python",
   "name": "python3"
  },
  "language_info": {
   "codemirror_mode": {
    "name": "ipython",
    "version": 3
   },
   "file_extension": ".py",
   "mimetype": "text/x-python",
   "name": "python",
   "nbconvert_exporter": "python",
   "pygments_lexer": "ipython3",
   "version": "3.9.7"
  }
 },
 "nbformat": 4,
 "nbformat_minor": 5
}
